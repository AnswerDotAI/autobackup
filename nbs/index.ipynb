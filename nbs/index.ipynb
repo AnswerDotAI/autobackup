{
 "cells": [
  {
   "cell_type": "code",
   "execution_count": null,
   "metadata": {},
   "outputs": [],
   "source": [
    "#| hide\n",
    "from autobackup.core import *"
   ]
  },
  {
   "cell_type": "markdown",
   "metadata": {},
   "source": [
    "# autobackup\n",
    "\n",
    "> Automatically create backups of a directory"
   ]
  },
  {
   "cell_type": "markdown",
   "metadata": {},
   "source": [
    "## Usage"
   ]
  },
  {
   "cell_type": "markdown",
   "metadata": {},
   "source": [
    "### Installation"
   ]
  },
  {
   "cell_type": "markdown",
   "metadata": {},
   "source": [
    "Install latest from the GitHub [repository][repo]:\n",
    "\n",
    "```sh\n",
    "$ pip install git+https://github.com/johnowhitaker/autobackup.git\n",
    "```\n",
    "\n",
    "\n",
    "or from [pypi][pypi]\n",
    "\n",
    "\n",
    "```sh\n",
    "$ pip install autobackup\n",
    "```\n",
    "\n",
    "\n",
    "[repo]: https://github.com/johnowhitaker/autobackup\n",
    "[docs]: https://johnowhitaker.github.io/autobackup/\n",
    "[pypi]: https://pypi.org/project/autobackup/"
   ]
  },
  {
   "cell_type": "markdown",
   "metadata": {},
   "source": [
    "## How to use"
   ]
  },
  {
   "cell_type": "markdown",
   "metadata": {},
   "source": [
    "`autobackup src dest` will make a copy of `src` (which can be a file or a directory) inside `dir` in a folder with the current date+time, and clean up any old backups based on the following rules:\n",
    "\n",
    "- The most recent 5 backups are kept\n",
    "- For each number of days in `--max_ages` (default is \"2,14,60\") the oldest one below that age is kept.\n",
    "\n",
    "This ensures that you have a few recent backups, one up to 2 days old, one up to 2 weeks old and one up to 2 months old. \n",
    "\n",
    "To run this script hourly, \n",
    "\n",
    "1. Create a service file (e.g. `/etc/systemd/system/backup.service`):\n",
    "\n",
    "```\n",
    "[Unit]\n",
    "Description=Hourly Backup Service\n",
    "\n",
    "[Service]\n",
    "ExecStart=autobackup /path/to/src /path/to/dest\n",
    "\n",
    "[Install]\n",
    "WantedBy=multi-user.target\n",
    "```\n",
    "\n",
    "2. Create a timer file (e.g. `/etc/systemd/system/backup.timer`):\n",
    "\n",
    "```\n",
    "[Unit]\n",
    "Description=Run Backup Service Hourly\n",
    "\n",
    "[Timer]\n",
    "OnCalendar=hourly\n",
    "\n",
    "[Install]\n",
    "WantedBy=timers.target\n",
    "```\n",
    "\n",
    "3. Enable and start the timer:\n",
    "\n",
    "```\n",
    "sudo systemctl enable backup.timer\n",
    "sudo systemctl start backup.timer\n",
    "```"
   ]
  },
  {
   "cell_type": "markdown",
   "metadata": {},
   "source": [
    "It takes additional args from fastcore's xtra.globtastic, for example you can ise `-skip_folder_re '^\\.\\w'` to skip folders with `/.` in the name, useful for skipping cache."
   ]
  }
 ],
 "metadata": {
  "kernelspec": {
   "display_name": "python3",
   "language": "python",
   "name": "python3"
  }
 },
 "nbformat": 4,
 "nbformat_minor": 4
}
