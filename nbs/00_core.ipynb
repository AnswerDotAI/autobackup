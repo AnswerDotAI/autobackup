{
 "cells": [
  {
   "cell_type": "markdown",
   "metadata": {},
   "source": [
    "# core\n",
    "\n",
    "> Utility for automating backups of a specific file or directory"
   ]
  },
  {
   "cell_type": "code",
   "execution_count": null,
   "metadata": {},
   "outputs": [],
   "source": [
    "#| default_exp core"
   ]
  },
  {
   "cell_type": "markdown",
   "metadata": {},
   "source": [
    "# Automated Backups\n",
    "\n",
    "We want a script to back up a specific file/folder over different intervals. Specifically, it should\n",
    "\n",
    "- Copy to some destination dir every hour (e.g. a different drive)\n",
    "- Keep the last 5, and one every day, week and month (for example)\n",
    "\n",
    "We can then rsync the destination dir to keep a remote backup."
   ]
  },
  {
   "cell_type": "code",
   "execution_count": null,
   "metadata": {},
   "outputs": [],
   "source": [
    "#|export\n",
    "import shutil, os, time, pprint, logging\n",
    "from pathlib import Path\n",
    "from fastcore.script import call_parse\n",
    "from datetime import datetime, timedelta"
   ]
  },
  {
   "cell_type": "code",
   "execution_count": null,
   "metadata": {},
   "outputs": [],
   "source": [
    "!mkdir -p demo_src\n",
    "!mkdir -p demo_dst\n",
    "!rm -r demo_dst/*"
   ]
  },
  {
   "cell_type": "code",
   "execution_count": null,
   "metadata": {},
   "outputs": [],
   "source": [
    "!echo \"content\" > \"demo_src/$(date +%s).txt\""
   ]
  },
  {
   "cell_type": "markdown",
   "metadata": {},
   "source": [
    "## The core functionality"
   ]
  },
  {
   "cell_type": "markdown",
   "metadata": {},
   "source": [
    "The plan has two main steps:\n",
    "\n",
    "- Create a new backup\n",
    "- Clean up any old backups that are no longer needed.\n",
    "\n",
    "Step 1 is easy enough:\n"
   ]
  },
  {
   "cell_type": "code",
   "execution_count": null,
   "metadata": {},
   "outputs": [],
   "source": [
    "#|export\n",
    "def create_backup(src, dest_dir):\n",
    "    timestamp = datetime.now().strftime(\"%Y%m%d_%H%M%S\")\n",
    "    src_path = Path(src)\n",
    "    dest_path = Path(dest_dir) / timestamp\n",
    "    if src_path.is_file():\n",
    "        dest_path.mkdir(parents=True, exist_ok=True)\n",
    "        shutil.copy2(src_path, dest_path / src_path.name)\n",
    "    else: shutil.copytree(src, dest_path)"
   ]
  },
  {
   "cell_type": "code",
   "execution_count": null,
   "metadata": {},
   "outputs": [
    {
     "name": "stdout",
     "output_type": "stream",
     "text": [
      "20241115_120316\r\n"
     ]
    }
   ],
   "source": [
    "create_backup('demo_src', 'demo_dst')\n",
    "!ls demo_dst"
   ]
  },
  {
   "cell_type": "markdown",
   "metadata": {},
   "source": [
    "The harder part is the cleanup. Let's start by generating some dates to test with."
   ]
  },
  {
   "cell_type": "code",
   "execution_count": null,
   "metadata": {},
   "outputs": [
    {
     "name": "stdout",
     "output_type": "stream",
     "text": [
      "['20240807_120317', '20240807_130317', '20240807_140317', '20240807_150317', '20240807_160317'] ['20241115_070317', '20241115_080317', '20241115_090317', '20241115_100317', '20241115_110317']\n"
     ]
    }
   ],
   "source": [
    "def generate_test_dates(num_dates, base_date):\n",
    "    return [(base_date + timedelta(hours=i)).strftime(\"%Y%m%d_%H%M%S\") for i in range(num_dates)]\n",
    "test_dates = generate_test_dates(2400, datetime.now() - timedelta(days=100))\n",
    "print(test_dates[:5], test_dates[-5:])"
   ]
  },
  {
   "cell_type": "code",
   "execution_count": null,
   "metadata": {},
   "outputs": [
    {
     "data": {
      "text/plain": [
       "['20240916_130317', '20240916_140317', '20240916_150317']"
      ]
     },
     "execution_count": null,
     "metadata": {},
     "output_type": "execute_result"
    }
   ],
   "source": [
    "# Can I get all dates < 2 months old?\n",
    "[d for d in test_dates if (datetime.now() - datetime.strptime(d, '%Y%m%d_%H%M%S')).days < 60][:3]"
   ]
  },
  {
   "cell_type": "markdown",
   "metadata": {},
   "source": [
    "Now we want to grab the most recent 5, and then the oldest below some threshold."
   ]
  },
  {
   "cell_type": "code",
   "execution_count": null,
   "metadata": {},
   "outputs": [],
   "source": [
    "#| export \n",
    "def clean_dates(dates, now=None, max_ages=(2, 14, 60)):\n",
    "    now = now or datetime.now()\n",
    "    clean = []\n",
    "    dates.sort()\n",
    "    \n",
    "    for max_age in max_ages:\n",
    "        lt_max = [d for d in dates if (now - datetime.strptime(d, '%Y%m%d_%H%M%S')).days < max_age]\n",
    "        if lt_max: clean.append(lt_max[0])\n",
    "\n",
    "    clean.extend(dates[-5:])  # Keep the newest 5\n",
    "    return sorted(set(clean))  # Remove duplicates and sort"
   ]
  },
  {
   "cell_type": "code",
   "execution_count": null,
   "metadata": {},
   "outputs": [
    {
     "data": {
      "text/plain": [
       "['20240916_130317',\n",
       " '20241101_130317',\n",
       " '20241113_130317',\n",
       " '20241115_070317',\n",
       " '20241115_080317',\n",
       " '20241115_090317',\n",
       " '20241115_100317',\n",
       " '20241115_110317']"
      ]
     },
     "execution_count": null,
     "metadata": {},
     "output_type": "execute_result"
    }
   ],
   "source": [
    "clean_dates(test_dates)"
   ]
  },
  {
   "cell_type": "markdown",
   "metadata": {},
   "source": [
    "Now we want code that starts with the same test dates etc as above, but then simulates time passing by adding an hour to 'now' and a date to test dates every step then printing out a (prettified) version of clean_dates to check it's doing as I expect over a simulated month."
   ]
  },
  {
   "cell_type": "code",
   "execution_count": null,
   "metadata": {},
   "outputs": [
    {
     "name": "stdout",
     "output_type": "stream",
     "text": [
      "\n",
      "Day 1:\n",
      "['20240916_140322',\n",
      " '20241101_140322',\n",
      " '20241113_140322',\n",
      " '20241115_080322',\n",
      " '20241115_090322',\n",
      " '20241115_100322',\n",
      " '20241115_110322',\n",
      " '20241115_130322']\n",
      "\n",
      "Day 2:\n",
      "['20241101_140322',\n",
      " '20241113_140322',\n",
      " '20241115_080322',\n",
      " '20241116_090322',\n",
      " '20241116_100322',\n",
      " '20241116_110322',\n",
      " '20241116_120322',\n",
      " '20241116_130322']\n",
      "\n",
      "Day 3:\n",
      "['20241101_140322',\n",
      " '20241113_140322',\n",
      " '20241117_030322',\n",
      " '20241117_090322',\n",
      " '20241117_100322',\n",
      " '20241117_110322',\n",
      " '20241117_120322',\n",
      " '20241117_130322']\n",
      "\n",
      "Day 4:\n",
      "['20241101_140322',\n",
      " '20241113_140322',\n",
      " '20241117_030322',\n",
      " '20241118_090322',\n",
      " '20241118_100322',\n",
      " '20241118_110322',\n",
      " '20241118_120322',\n",
      " '20241118_130322']\n",
      "\n",
      "Day 5:\n",
      "['20241101_140322',\n",
      " '20241113_140322',\n",
      " '20241118_220322',\n",
      " '20241119_090322',\n",
      " '20241119_100322',\n",
      " '20241119_110322',\n",
      " '20241119_120322',\n",
      " '20241119_130322']\n",
      "\n",
      "Day 6:\n",
      "['20241101_140322',\n",
      " '20241113_140322',\n",
      " '20241118_220322',\n",
      " '20241120_090322',\n",
      " '20241120_100322',\n",
      " '20241120_110322',\n",
      " '20241120_120322',\n",
      " '20241120_130322']\n",
      "\n",
      "Day 7:\n",
      "['20241101_140322',\n",
      " '20241113_140322',\n",
      " '20241120_170322',\n",
      " '20241121_090322',\n",
      " '20241121_100322',\n",
      " '20241121_110322',\n",
      " '20241121_120322',\n",
      " '20241121_130322']\n",
      "\n",
      "Day 8:\n",
      "['20241101_140322',\n",
      " '20241113_140322',\n",
      " '20241120_170322',\n",
      " '20241122_090322',\n",
      " '20241122_100322',\n",
      " '20241122_110322',\n",
      " '20241122_120322',\n",
      " '20241122_130322']\n",
      "\n",
      "Day 9:\n",
      "['20241101_140322',\n",
      " '20241113_140322',\n",
      " '20241122_120322',\n",
      " '20241123_090322',\n",
      " '20241123_100322',\n",
      " '20241123_110322',\n",
      " '20241123_120322',\n",
      " '20241123_130322']\n",
      "\n",
      "Day 10:\n",
      "['20241101_140322',\n",
      " '20241113_140322',\n",
      " '20241124_070322',\n",
      " '20241124_090322',\n",
      " '20241124_100322',\n",
      " '20241124_110322',\n",
      " '20241124_120322',\n",
      " '20241124_130322']\n",
      "\n",
      "Day 11:\n",
      "['20241101_140322',\n",
      " '20241113_140322',\n",
      " '20241124_070322',\n",
      " '20241125_090322',\n",
      " '20241125_100322',\n",
      " '20241125_110322',\n",
      " '20241125_120322',\n",
      " '20241125_130322']\n",
      "\n",
      "Day 12:\n",
      "['20241101_140322',\n",
      " '20241113_140322',\n",
      " '20241126_020322',\n",
      " '20241126_090322',\n",
      " '20241126_100322',\n",
      " '20241126_110322',\n",
      " '20241126_120322',\n",
      " '20241126_130322']\n",
      "\n",
      "Day 13:\n",
      "['20241101_140322',\n",
      " '20241113_140322',\n",
      " '20241126_020322',\n",
      " '20241127_090322',\n",
      " '20241127_100322',\n",
      " '20241127_110322',\n",
      " '20241127_120322',\n",
      " '20241127_130322']\n",
      "\n",
      "Day 14:\n",
      "['20241101_140322',\n",
      " '20241126_020322',\n",
      " '20241127_210322',\n",
      " '20241128_090322',\n",
      " '20241128_100322',\n",
      " '20241128_110322',\n",
      " '20241128_120322',\n",
      " '20241128_130322']\n",
      "\n",
      "Day 15:\n",
      "['20241101_140322',\n",
      " '20241126_020322',\n",
      " '20241127_210322',\n",
      " '20241129_090322',\n",
      " '20241129_100322',\n",
      " '20241129_110322',\n",
      " '20241129_120322',\n",
      " '20241129_130322']\n",
      "\n",
      "Day 16:\n",
      "['20241101_140322',\n",
      " '20241126_020322',\n",
      " '20241129_160322',\n",
      " '20241130_090322',\n",
      " '20241130_100322',\n",
      " '20241130_110322',\n",
      " '20241130_120322',\n",
      " '20241130_130322']\n",
      "\n",
      "Day 17:\n",
      "['20241101_140322',\n",
      " '20241126_020322',\n",
      " '20241129_160322',\n",
      " '20241201_090322',\n",
      " '20241201_100322',\n",
      " '20241201_110322',\n",
      " '20241201_120322',\n",
      " '20241201_130322']\n",
      "\n",
      "Day 18:\n",
      "['20241101_140322',\n",
      " '20241126_020322',\n",
      " '20241201_110322',\n",
      " '20241202_090322',\n",
      " '20241202_100322',\n",
      " '20241202_110322',\n",
      " '20241202_120322',\n",
      " '20241202_130322']\n",
      "\n",
      "Day 19:\n",
      "['20241101_140322',\n",
      " '20241126_020322',\n",
      " '20241203_060322',\n",
      " '20241203_090322',\n",
      " '20241203_100322',\n",
      " '20241203_110322',\n",
      " '20241203_120322',\n",
      " '20241203_130322']\n",
      "\n",
      "Day 20:\n",
      "['20241101_140322',\n",
      " '20241126_020322',\n",
      " '20241203_060322',\n",
      " '20241204_090322',\n",
      " '20241204_100322',\n",
      " '20241204_110322',\n",
      " '20241204_120322',\n",
      " '20241204_130322']\n",
      "\n",
      "Day 21:\n",
      "['20241101_140322',\n",
      " '20241126_020322',\n",
      " '20241205_010322',\n",
      " '20241205_090322',\n",
      " '20241205_100322',\n",
      " '20241205_110322',\n",
      " '20241205_120322',\n",
      " '20241205_130322']\n",
      "\n",
      "Day 22:\n",
      "['20241101_140322',\n",
      " '20241126_020322',\n",
      " '20241205_010322',\n",
      " '20241206_090322',\n",
      " '20241206_100322',\n",
      " '20241206_110322',\n",
      " '20241206_120322',\n",
      " '20241206_130322']\n",
      "\n",
      "Day 23:\n",
      "['20241101_140322',\n",
      " '20241126_020322',\n",
      " '20241206_200322',\n",
      " '20241207_090322',\n",
      " '20241207_100322',\n",
      " '20241207_110322',\n",
      " '20241207_120322',\n",
      " '20241207_130322']\n",
      "\n",
      "Day 24:\n",
      "['20241101_140322',\n",
      " '20241126_020322',\n",
      " '20241206_200322',\n",
      " '20241208_090322',\n",
      " '20241208_100322',\n",
      " '20241208_110322',\n",
      " '20241208_120322',\n",
      " '20241208_130322']\n",
      "\n",
      "Day 25:\n",
      "['20241101_140322',\n",
      " '20241126_020322',\n",
      " '20241208_150322',\n",
      " '20241209_090322',\n",
      " '20241209_100322',\n",
      " '20241209_110322',\n",
      " '20241209_120322',\n",
      " '20241209_130322']\n",
      "\n",
      "Day 26:\n",
      "['20241101_140322',\n",
      " '20241208_150322',\n",
      " '20241210_090322',\n",
      " '20241210_100322',\n",
      " '20241210_110322',\n",
      " '20241210_120322',\n",
      " '20241210_130322']\n",
      "\n",
      "Day 27:\n",
      "['20241101_140322',\n",
      " '20241208_150322',\n",
      " '20241210_100322',\n",
      " '20241211_090322',\n",
      " '20241211_100322',\n",
      " '20241211_110322',\n",
      " '20241211_120322',\n",
      " '20241211_130322']\n",
      "\n",
      "Day 28:\n",
      "['20241101_140322',\n",
      " '20241208_150322',\n",
      " '20241212_050322',\n",
      " '20241212_090322',\n",
      " '20241212_100322',\n",
      " '20241212_110322',\n",
      " '20241212_120322',\n",
      " '20241212_130322']\n",
      "\n",
      "Day 29:\n",
      "['20241101_140322',\n",
      " '20241208_150322',\n",
      " '20241212_050322',\n",
      " '20241213_090322',\n",
      " '20241213_100322',\n",
      " '20241213_110322',\n",
      " '20241213_120322',\n",
      " '20241213_130322']\n",
      "\n",
      "Day 30:\n",
      "['20241101_140322',\n",
      " '20241208_150322',\n",
      " '20241214_000322',\n",
      " '20241214_090322',\n",
      " '20241214_100322',\n",
      " '20241214_110322',\n",
      " '20241214_120322',\n",
      " '20241214_130322']\n"
     ]
    }
   ],
   "source": [
    "# Initialize\n",
    "now = datetime.now()\n",
    "test_dates = generate_test_dates(2400, now - timedelta(days=100))\n",
    "\n",
    "# Simulate time passing\n",
    "for _ in range(30 * 24):  # Simulate a month (30 days * 24 hours)\n",
    "    now += timedelta(hours=1)\n",
    "    test_dates.append(now.strftime(\"%Y%m%d_%H%M%S\"))\n",
    "    test_dates = clean_dates(test_dates, now)  # Clean up old dates\n",
    "    if _ % 24 == 0:  # Print once a day\n",
    "        print(f\"\\nDay {_ // 24 + 1}:\")\n",
    "        pprint.pprint(test_dates)"
   ]
  },
  {
   "cell_type": "markdown",
   "metadata": {},
   "source": [
    "NB: Yay, it looks to be doing mostly what I want! I can collapse the output, if you're viewing this in a notebook my apologies :)"
   ]
  },
  {
   "cell_type": "markdown",
   "metadata": {},
   "source": [
    "## Turning it into a script"
   ]
  },
  {
   "cell_type": "markdown",
   "metadata": {},
   "source": [
    "Now that those two pieces of functionality seem to be working, we can wrap this up as a script using fastcore's call_parse, have it run the backup, clean up old files, and log any errors or messages to backup.log"
   ]
  },
  {
   "cell_type": "code",
   "execution_count": null,
   "metadata": {},
   "outputs": [],
   "source": [
    "#|export\n",
    "@call_parse\n",
    "def run_backup(\n",
    "    src:str, # The source to be backed up\n",
    "    dest:str, # The destination directory\n",
    "    max_ages:str=\"2,14,60\", # The max age(s) in days for the different backups\n",
    "    log_file:str='backup.log'\n",
    "):\n",
    "    \"Run backup and cleanup old files\"\n",
    "    \n",
    "    # Set up logging\n",
    "    logging.basicConfig(filename=log_file, level=logging.DEBUG,\n",
    "                        format='%(asctime)s - %(levelname)s - %(message)s')\n",
    "    try:\n",
    "        create_backup(src, dest)\n",
    "        logging.info(f\"Backup created: {src} -> {dest}\")\n",
    "        max_ages = [int(age.strip()) for age in max_ages.split(',')]\n",
    "        backups = [d.name for d in Path(dest).iterdir() if d.is_dir()]\n",
    "        to_keep = clean_dates(backups, max_ages=max_ages)\n",
    "        for backup in backups:\n",
    "            if backup not in to_keep:\n",
    "                shutil.rmtree(Path(dest) / backup)\n",
    "                logging.info(f\"Removed old backup: {backup}\")\n",
    "    except Exception as e:\n",
    "        logging.error(f\"Backup failed: {str(e)}\", exc_info=True)"
   ]
  },
  {
   "cell_type": "code",
   "execution_count": null,
   "metadata": {},
   "outputs": [
    {
     "name": "stdout",
     "output_type": "stream",
     "text": [
      "1731699240.txt\t1731700528.txt\t1731700920.txt\r\n",
      "1731700503.txt\t1731700856.txt\t1731700993.txt\r\n"
     ]
    }
   ],
   "source": [
    "!ls demo_src"
   ]
  },
  {
   "cell_type": "markdown",
   "metadata": {},
   "source": [
    "Testing a directory:"
   ]
  },
  {
   "cell_type": "code",
   "execution_count": null,
   "metadata": {},
   "outputs": [],
   "source": [
    "!rm -r demo_dst/*"
   ]
  },
  {
   "cell_type": "code",
   "execution_count": null,
   "metadata": {},
   "outputs": [
    {
     "name": "stdout",
     "output_type": "stream",
     "text": [
      "20241115_120331\r\n"
     ]
    }
   ],
   "source": [
    "run_backup('demo_src', 'demo_dst',)\n",
    "!ls demo_dst"
   ]
  },
  {
   "cell_type": "code",
   "execution_count": null,
   "metadata": {},
   "outputs": [
    {
     "name": "stdout",
     "output_type": "stream",
     "text": [
      "1731699240.txt\t1731700528.txt\t1731700920.txt\r\n",
      "1731700503.txt\t1731700856.txt\t1731700993.txt\r\n"
     ]
    }
   ],
   "source": [
    "!ls demo_dst/20241115_120331"
   ]
  },
  {
   "cell_type": "markdown",
   "metadata": {},
   "source": [
    "Testing a single file"
   ]
  },
  {
   "cell_type": "code",
   "execution_count": null,
   "metadata": {},
   "outputs": [],
   "source": [
    "!rm -r demo_dst/*"
   ]
  },
  {
   "cell_type": "code",
   "execution_count": null,
   "metadata": {},
   "outputs": [],
   "source": [
    "run_backup('demo_src/1731700503.txt', 'demo_dst')"
   ]
  },
  {
   "cell_type": "code",
   "execution_count": null,
   "metadata": {},
   "outputs": [
    {
     "name": "stdout",
     "output_type": "stream",
     "text": [
      "20241115_120341\r\n"
     ]
    }
   ],
   "source": [
    "!ls demo_dst"
   ]
  },
  {
   "cell_type": "code",
   "execution_count": null,
   "metadata": {},
   "outputs": [
    {
     "name": "stdout",
     "output_type": "stream",
     "text": [
      "1731700503.txt\r\n"
     ]
    }
   ],
   "source": [
    "!ls demo_dst/20241115_120341"
   ]
  }
 ],
 "metadata": {
  "kernelspec": {
   "display_name": "python3",
   "language": "python",
   "name": "python3"
  }
 },
 "nbformat": 4,
 "nbformat_minor": 4
}
