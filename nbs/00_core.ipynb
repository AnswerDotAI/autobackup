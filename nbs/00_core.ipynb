{
 "cells": [
  {
   "cell_type": "markdown",
   "metadata": {},
   "source": [
    "# core\n",
    "\n",
    "> Utility for automating backups of a specific file or directory"
   ]
  },
  {
   "cell_type": "code",
   "execution_count": null,
   "metadata": {},
   "outputs": [],
   "source": [
    "#| default_exp core"
   ]
  },
  {
   "cell_type": "markdown",
   "metadata": {},
   "source": [
    "# Automated Backups\n",
    "\n",
    "We want a script to back up a specific file/folder over different intervals. Specifically, it should\n",
    "\n",
    "- Copy to some destination dir every hour (e.g. a different drive)\n",
    "- Keep the last 5, and one every day, week and month (for example)\n",
    "\n",
    "We can then rsync the destination dir to keep a remote backup."
   ]
  },
  {
   "cell_type": "code",
   "execution_count": null,
   "metadata": {},
   "outputs": [],
   "source": [
    "#|export\n",
    "import shutil, os, time, pprint, logging\n",
    "from pathlib import Path\n",
    "from fastcore.script import call_parse\n",
    "from fastcore.xtras import globtastic\n",
    "from datetime import datetime, timedelta"
   ]
  },
  {
   "cell_type": "code",
   "execution_count": null,
   "metadata": {},
   "outputs": [],
   "source": [
    "!mkdir -p demo_src\n",
    "!mkdir -p demo_dst\n",
    "!rm -r demo_dst/*\n",
    "!rm -r demo_src/*"
   ]
  },
  {
   "cell_type": "code",
   "execution_count": null,
   "metadata": {},
   "outputs": [],
   "source": [
    "!echo \"content\" > \"demo_src/test_text.txt\"\n",
    "!echo \"## content\" > \"demo_src/test_two.md\""
   ]
  },
  {
   "cell_type": "markdown",
   "metadata": {},
   "source": [
    "## The core functionality"
   ]
  },
  {
   "cell_type": "markdown",
   "metadata": {},
   "source": [
    "The plan has two main steps:\n",
    "\n",
    "- Create a new backup\n",
    "- Clean up any old backups that are no longer needed.\n"
   ]
  },
  {
   "cell_type": "markdown",
   "metadata": {},
   "source": [
    "For step 1 we want to go file by file in case of errors, and support a matching pattern for what to include. So, take 2:"
   ]
  },
  {
   "cell_type": "code",
   "execution_count": null,
   "metadata": {},
   "outputs": [
    {
     "data": {
      "text/plain": [
       "(#1) ['demo_src/test_two.md']"
      ]
     },
     "execution_count": null,
     "metadata": {},
     "output_type": "execute_result"
    }
   ],
   "source": [
    "globtastic(\"demo_src\", file_glob=\"*.md\") # Finding files"
   ]
  },
  {
   "cell_type": "code",
   "execution_count": null,
   "metadata": {},
   "outputs": [],
   "source": [
    "#| export\n",
    "def create_backup(src, dest_dir, pattern=None, skip_pattern=None):\n",
    "    timestamp = datetime.now().strftime(\"%Y%m%d_%H%M%S\")\n",
    "    src_path = Path(src)\n",
    "    dest_path = Path(dest_dir) / timestamp\n",
    "    dest_path.mkdir(parents=True, exist_ok=True)\n",
    "    \n",
    "    if src_path.is_file():\n",
    "        files_to_copy = [src_path]\n",
    "    else:\n",
    "        if pattern or skip_pattern:\n",
    "            files_to_copy = globtastic(src_path, file_glob=pattern, skip_file_glob=skip_pattern)\n",
    "            files_to_copy = [Path(f) for f in files_to_copy]\n",
    "        else: files_to_copy = src_path.rglob('*')\n",
    "    \n",
    "    for file in files_to_copy:\n",
    "        if file.is_file():\n",
    "            rel_path = file.relative_to(src_path)\n",
    "            dest_file = dest_path / rel_path\n",
    "            dest_file.parent.mkdir(parents=True, exist_ok=True)\n",
    "            try:\n",
    "                shutil.copy2(file, dest_file)\n",
    "            except Exception as e:\n",
    "                logging.warning(f\"Failed to copy {file}: {e}\")"
   ]
  },
  {
   "cell_type": "code",
   "execution_count": null,
   "metadata": {},
   "outputs": [
    {
     "name": "stdout",
     "output_type": "stream",
     "text": [
      "20241127_143724\r\n"
     ]
    }
   ],
   "source": [
    "create_backup('demo_src', 'demo_dst')\n",
    "!ls demo_dst"
   ]
  },
  {
   "cell_type": "code",
   "execution_count": null,
   "metadata": {},
   "outputs": [
    {
     "name": "stdout",
     "output_type": "stream",
     "text": [
      "test_text.txt  test_two.md\r\n"
     ]
    }
   ],
   "source": [
    "!ls demo_dst/20241127_143724"
   ]
  },
  {
   "cell_type": "code",
   "execution_count": null,
   "metadata": {},
   "outputs": [
    {
     "name": "stdout",
     "output_type": "stream",
     "text": [
      "20241127_143724  20241127_143733\r\n"
     ]
    }
   ],
   "source": [
    "# Test single file\n",
    "create_backup('demo_src/test_text.txt', 'demo_dst')\n",
    "!ls demo_dst"
   ]
  },
  {
   "cell_type": "code",
   "execution_count": null,
   "metadata": {},
   "outputs": [
    {
     "name": "stdout",
     "output_type": "stream",
     "text": [
      "test_text.txt\r\n"
     ]
    }
   ],
   "source": [
    "!ls demo_dst/20241127_143733/"
   ]
  },
  {
   "cell_type": "code",
   "execution_count": null,
   "metadata": {},
   "outputs": [
    {
     "name": "stdout",
     "output_type": "stream",
     "text": [
      "20241127_143724  20241127_143733  20241127_143739\r\n"
     ]
    }
   ],
   "source": [
    "# Test pattern\n",
    "create_backup('demo_src', 'demo_dst', pattern='*.md')\n",
    "!ls demo_dst"
   ]
  },
  {
   "cell_type": "code",
   "execution_count": null,
   "metadata": {},
   "outputs": [
    {
     "name": "stdout",
     "output_type": "stream",
     "text": [
      "test_two.md\r\n"
     ]
    }
   ],
   "source": [
    "!ls demo_dst/20241127_143739/"
   ]
  },
  {
   "cell_type": "code",
   "execution_count": null,
   "metadata": {},
   "outputs": [
    {
     "name": "stdout",
     "output_type": "stream",
     "text": [
      "20241127_143724  20241127_143733  20241127_143739  20241127_143742\r\n"
     ]
    }
   ],
   "source": [
    "# Test skip_pattern\n",
    "create_backup('demo_src', 'demo_dst', skip_pattern='*.md')\n",
    "!ls demo_dst"
   ]
  },
  {
   "cell_type": "code",
   "execution_count": null,
   "metadata": {},
   "outputs": [
    {
     "name": "stdout",
     "output_type": "stream",
     "text": [
      "test_text.txt\r\n"
     ]
    }
   ],
   "source": [
    "!ls demo_dst/20241127_143742/"
   ]
  },
  {
   "cell_type": "markdown",
   "metadata": {},
   "source": [
    "The harder part is the cleanup. Let's start by generating some dates to test with."
   ]
  },
  {
   "cell_type": "code",
   "execution_count": null,
   "metadata": {},
   "outputs": [
    {
     "name": "stdout",
     "output_type": "stream",
     "text": [
      "['20240819_143748', '20240819_153748', '20240819_163748', '20240819_173748', '20240819_183748'] ['20241127_093748', '20241127_103748', '20241127_113748', '20241127_123748', '20241127_133748']\n"
     ]
    }
   ],
   "source": [
    "def generate_test_dates(num_dates, base_date):\n",
    "    return [(base_date + timedelta(hours=i)).strftime(\"%Y%m%d_%H%M%S\") for i in range(num_dates)]\n",
    "test_dates = generate_test_dates(2400, datetime.now() - timedelta(days=100))\n",
    "print(test_dates[:5], test_dates[-5:])"
   ]
  },
  {
   "cell_type": "code",
   "execution_count": null,
   "metadata": {},
   "outputs": [
    {
     "data": {
      "text/plain": [
       "['20240928_153748', '20240928_163748', '20240928_173748']"
      ]
     },
     "execution_count": null,
     "metadata": {},
     "output_type": "execute_result"
    }
   ],
   "source": [
    "# Can I get all dates < 2 months old?\n",
    "[d for d in test_dates if (datetime.now() - datetime.strptime(d, '%Y%m%d_%H%M%S')).days < 60][:3]"
   ]
  },
  {
   "cell_type": "markdown",
   "metadata": {},
   "source": [
    "Now we want to grab the most recent 5, and then the oldest below some threshold."
   ]
  },
  {
   "cell_type": "code",
   "execution_count": null,
   "metadata": {},
   "outputs": [],
   "source": [
    "#| export \n",
    "def clean_dates(dates, now=None, max_ages=(2, 14, 60)):\n",
    "    now = now or datetime.now()\n",
    "    clean = []\n",
    "    dates.sort()\n",
    "    \n",
    "    for max_age in max_ages:\n",
    "        lt_max = [d for d in dates if (now - datetime.strptime(d, '%Y%m%d_%H%M%S')).days < max_age]\n",
    "        if lt_max: clean.append(lt_max[0])\n",
    "\n",
    "    clean.extend(dates[-5:])  # Keep the newest 5\n",
    "    return sorted(set(clean))  # Remove duplicates and sort"
   ]
  },
  {
   "cell_type": "code",
   "execution_count": null,
   "metadata": {},
   "outputs": [
    {
     "data": {
      "text/plain": [
       "['20240928_153748',\n",
       " '20241113_153748',\n",
       " '20241125_153748',\n",
       " '20241127_093748',\n",
       " '20241127_103748',\n",
       " '20241127_113748',\n",
       " '20241127_123748',\n",
       " '20241127_133748']"
      ]
     },
     "execution_count": null,
     "metadata": {},
     "output_type": "execute_result"
    }
   ],
   "source": [
    "clean_dates(test_dates)"
   ]
  },
  {
   "cell_type": "markdown",
   "metadata": {},
   "source": [
    "Now we want code that starts with the same test dates etc as above, but then simulates time passing by adding an hour to 'now' and a date to test dates every step then printing out a (prettified) version of clean_dates to check it's doing as I expect over a simulated month."
   ]
  },
  {
   "cell_type": "code",
   "execution_count": null,
   "metadata": {},
   "outputs": [
    {
     "name": "stdout",
     "output_type": "stream",
     "text": [
      "\n",
      "Day 1:\n",
      "['20240928_163752',\n",
      " '20241113_163752',\n",
      " '20241125_163752',\n",
      " '20241127_103752',\n",
      " '20241127_113752',\n",
      " '20241127_123752',\n",
      " '20241127_133752',\n",
      " '20241127_153752']\n",
      "\n",
      "Day 2:\n",
      "['20241113_163752',\n",
      " '20241125_163752',\n",
      " '20241127_103752',\n",
      " '20241128_113752',\n",
      " '20241128_123752',\n",
      " '20241128_133752',\n",
      " '20241128_143752',\n",
      " '20241128_153752']\n",
      "\n",
      "Day 3:\n",
      "['20241113_163752',\n",
      " '20241125_163752',\n",
      " '20241129_053752',\n",
      " '20241129_113752',\n",
      " '20241129_123752',\n",
      " '20241129_133752',\n",
      " '20241129_143752',\n",
      " '20241129_153752']\n",
      "\n",
      "Day 4:\n",
      "['20241113_163752',\n",
      " '20241125_163752',\n",
      " '20241129_053752',\n",
      " '20241130_113752',\n",
      " '20241130_123752',\n",
      " '20241130_133752',\n",
      " '20241130_143752',\n",
      " '20241130_153752']\n",
      "\n",
      "Day 5:\n",
      "['20241113_163752',\n",
      " '20241125_163752',\n",
      " '20241201_003752',\n",
      " '20241201_113752',\n",
      " '20241201_123752',\n",
      " '20241201_133752',\n",
      " '20241201_143752',\n",
      " '20241201_153752']\n",
      "\n",
      "Day 6:\n",
      "['20241113_163752',\n",
      " '20241125_163752',\n",
      " '20241201_003752',\n",
      " '20241202_113752',\n",
      " '20241202_123752',\n",
      " '20241202_133752',\n",
      " '20241202_143752',\n",
      " '20241202_153752']\n",
      "\n",
      "Day 7:\n",
      "['20241113_163752',\n",
      " '20241125_163752',\n",
      " '20241202_193752',\n",
      " '20241203_113752',\n",
      " '20241203_123752',\n",
      " '20241203_133752',\n",
      " '20241203_143752',\n",
      " '20241203_153752']\n",
      "\n",
      "Day 8:\n",
      "['20241113_163752',\n",
      " '20241125_163752',\n",
      " '20241202_193752',\n",
      " '20241204_113752',\n",
      " '20241204_123752',\n",
      " '20241204_133752',\n",
      " '20241204_143752',\n",
      " '20241204_153752']\n",
      "\n",
      "Day 9:\n",
      "['20241113_163752',\n",
      " '20241125_163752',\n",
      " '20241204_143752',\n",
      " '20241205_113752',\n",
      " '20241205_123752',\n",
      " '20241205_133752',\n",
      " '20241205_143752',\n",
      " '20241205_153752']\n",
      "\n",
      "Day 10:\n",
      "['20241113_163752',\n",
      " '20241125_163752',\n",
      " '20241206_093752',\n",
      " '20241206_113752',\n",
      " '20241206_123752',\n",
      " '20241206_133752',\n",
      " '20241206_143752',\n",
      " '20241206_153752']\n",
      "\n",
      "Day 11:\n",
      "['20241113_163752',\n",
      " '20241125_163752',\n",
      " '20241206_093752',\n",
      " '20241207_113752',\n",
      " '20241207_123752',\n",
      " '20241207_133752',\n",
      " '20241207_143752',\n",
      " '20241207_153752']\n",
      "\n",
      "Day 12:\n",
      "['20241113_163752',\n",
      " '20241125_163752',\n",
      " '20241208_043752',\n",
      " '20241208_113752',\n",
      " '20241208_123752',\n",
      " '20241208_133752',\n",
      " '20241208_143752',\n",
      " '20241208_153752']\n",
      "\n",
      "Day 13:\n",
      "['20241113_163752',\n",
      " '20241125_163752',\n",
      " '20241208_043752',\n",
      " '20241209_113752',\n",
      " '20241209_123752',\n",
      " '20241209_133752',\n",
      " '20241209_143752',\n",
      " '20241209_153752']\n",
      "\n",
      "Day 14:\n",
      "['20241113_163752',\n",
      " '20241208_043752',\n",
      " '20241209_233752',\n",
      " '20241210_113752',\n",
      " '20241210_123752',\n",
      " '20241210_133752',\n",
      " '20241210_143752',\n",
      " '20241210_153752']\n",
      "\n",
      "Day 15:\n",
      "['20241113_163752',\n",
      " '20241208_043752',\n",
      " '20241209_233752',\n",
      " '20241211_113752',\n",
      " '20241211_123752',\n",
      " '20241211_133752',\n",
      " '20241211_143752',\n",
      " '20241211_153752']\n",
      "\n",
      "Day 16:\n",
      "['20241113_163752',\n",
      " '20241208_043752',\n",
      " '20241211_183752',\n",
      " '20241212_113752',\n",
      " '20241212_123752',\n",
      " '20241212_133752',\n",
      " '20241212_143752',\n",
      " '20241212_153752']\n",
      "\n",
      "Day 17:\n",
      "['20241113_163752',\n",
      " '20241208_043752',\n",
      " '20241211_183752',\n",
      " '20241213_113752',\n",
      " '20241213_123752',\n",
      " '20241213_133752',\n",
      " '20241213_143752',\n",
      " '20241213_153752']\n",
      "\n",
      "Day 18:\n",
      "['20241113_163752',\n",
      " '20241208_043752',\n",
      " '20241213_133752',\n",
      " '20241214_113752',\n",
      " '20241214_123752',\n",
      " '20241214_133752',\n",
      " '20241214_143752',\n",
      " '20241214_153752']\n",
      "\n",
      "Day 19:\n",
      "['20241113_163752',\n",
      " '20241208_043752',\n",
      " '20241215_083752',\n",
      " '20241215_113752',\n",
      " '20241215_123752',\n",
      " '20241215_133752',\n",
      " '20241215_143752',\n",
      " '20241215_153752']\n",
      "\n",
      "Day 20:\n",
      "['20241113_163752',\n",
      " '20241208_043752',\n",
      " '20241215_083752',\n",
      " '20241216_113752',\n",
      " '20241216_123752',\n",
      " '20241216_133752',\n",
      " '20241216_143752',\n",
      " '20241216_153752']\n",
      "\n",
      "Day 21:\n",
      "['20241113_163752',\n",
      " '20241208_043752',\n",
      " '20241217_033752',\n",
      " '20241217_113752',\n",
      " '20241217_123752',\n",
      " '20241217_133752',\n",
      " '20241217_143752',\n",
      " '20241217_153752']\n",
      "\n",
      "Day 22:\n",
      "['20241113_163752',\n",
      " '20241208_043752',\n",
      " '20241217_033752',\n",
      " '20241218_113752',\n",
      " '20241218_123752',\n",
      " '20241218_133752',\n",
      " '20241218_143752',\n",
      " '20241218_153752']\n",
      "\n",
      "Day 23:\n",
      "['20241113_163752',\n",
      " '20241208_043752',\n",
      " '20241218_223752',\n",
      " '20241219_113752',\n",
      " '20241219_123752',\n",
      " '20241219_133752',\n",
      " '20241219_143752',\n",
      " '20241219_153752']\n",
      "\n",
      "Day 24:\n",
      "['20241113_163752',\n",
      " '20241208_043752',\n",
      " '20241218_223752',\n",
      " '20241220_113752',\n",
      " '20241220_123752',\n",
      " '20241220_133752',\n",
      " '20241220_143752',\n",
      " '20241220_153752']\n",
      "\n",
      "Day 25:\n",
      "['20241113_163752',\n",
      " '20241208_043752',\n",
      " '20241220_173752',\n",
      " '20241221_113752',\n",
      " '20241221_123752',\n",
      " '20241221_133752',\n",
      " '20241221_143752',\n",
      " '20241221_153752']\n",
      "\n",
      "Day 26:\n",
      "['20241113_163752',\n",
      " '20241220_173752',\n",
      " '20241222_113752',\n",
      " '20241222_123752',\n",
      " '20241222_133752',\n",
      " '20241222_143752',\n",
      " '20241222_153752']\n",
      "\n",
      "Day 27:\n",
      "['20241113_163752',\n",
      " '20241220_173752',\n",
      " '20241222_123752',\n",
      " '20241223_113752',\n",
      " '20241223_123752',\n",
      " '20241223_133752',\n",
      " '20241223_143752',\n",
      " '20241223_153752']\n",
      "\n",
      "Day 28:\n",
      "['20241113_163752',\n",
      " '20241220_173752',\n",
      " '20241224_073752',\n",
      " '20241224_113752',\n",
      " '20241224_123752',\n",
      " '20241224_133752',\n",
      " '20241224_143752',\n",
      " '20241224_153752']\n",
      "\n",
      "Day 29:\n",
      "['20241113_163752',\n",
      " '20241220_173752',\n",
      " '20241224_073752',\n",
      " '20241225_113752',\n",
      " '20241225_123752',\n",
      " '20241225_133752',\n",
      " '20241225_143752',\n",
      " '20241225_153752']\n",
      "\n",
      "Day 30:\n",
      "['20241113_163752',\n",
      " '20241220_173752',\n",
      " '20241226_023752',\n",
      " '20241226_113752',\n",
      " '20241226_123752',\n",
      " '20241226_133752',\n",
      " '20241226_143752',\n",
      " '20241226_153752']\n"
     ]
    }
   ],
   "source": [
    "# Initialize\n",
    "now = datetime.now()\n",
    "test_dates = generate_test_dates(2400, now - timedelta(days=100))\n",
    "\n",
    "# Simulate time passing\n",
    "for _ in range(30 * 24):  # Simulate a month (30 days * 24 hours)\n",
    "    now += timedelta(hours=1)\n",
    "    test_dates.append(now.strftime(\"%Y%m%d_%H%M%S\"))\n",
    "    test_dates = clean_dates(test_dates, now)  # Clean up old dates\n",
    "    if _ % 24 == 0:  # Print once a day\n",
    "        print(f\"\\nDay {_ // 24 + 1}:\")\n",
    "        pprint.pprint(test_dates)"
   ]
  },
  {
   "cell_type": "markdown",
   "metadata": {},
   "source": [
    "NB: Yay, it looks to be doing mostly what I want! I can collapse the output, if you're viewing this in a notebook my apologies :)"
   ]
  },
  {
   "cell_type": "markdown",
   "metadata": {},
   "source": [
    "## Turning it into a script"
   ]
  },
  {
   "cell_type": "markdown",
   "metadata": {},
   "source": [
    "Now that those two pieces of functionality seem to be working, we can wrap this up as a script using fastcore's call_parse, have it run the backup, clean up old files, and log any errors or messages to backup.log"
   ]
  },
  {
   "cell_type": "code",
   "execution_count": null,
   "metadata": {},
   "outputs": [],
   "source": [
    "#|export\n",
    "@call_parse\n",
    "def run_backup(\n",
    "    src:str, # The source to be backed up\n",
    "    dest:str, # The destination directory\n",
    "    max_ages:str=\"2,14,60\", # The max age(s) in days for the different backups\n",
    "    log_file:str='backup.log',\n",
    "    pattern:str=None, # Globtastic file_glob pattern\n",
    "    skip_pattern:str=None # Globtastic skip_file_glob pattern\n",
    "):\n",
    "    \"Run backup and cleanup old files\"\n",
    "    \n",
    "    # Set up logging\n",
    "    logging.basicConfig(filename=log_file, level=logging.DEBUG,\n",
    "                        format='%(asctime)s - %(levelname)s - %(message)s')\n",
    "    try:\n",
    "        create_backup(src, dest, pattern=pattern, skip_pattern=skip_pattern)\n",
    "        logging.info(f\"Backup created: {src} -> {dest}\")\n",
    "    except Exception as e:\n",
    "        logging.error(f\"Backup failed: {str(e)}\", exc_info=True)\n",
    "    finally:\n",
    "        max_ages = [int(age.strip()) for age in max_ages.split(',')]\n",
    "        backups = [d.name for d in Path(dest).iterdir() if d.is_dir()]\n",
    "        to_keep = clean_dates(backups, max_ages=max_ages)\n",
    "        for backup in backups:\n",
    "            if backup not in to_keep:\n",
    "                try:\n",
    "                    shutil.rmtree(Path(dest) / backup)\n",
    "                    logging.info(f\"Removed old backup: {backup}\")\n",
    "                except Exception as e:\n",
    "                    logging.error(f\"Removing old backup failed: {str(e)}\", exc_info=True)"
   ]
  },
  {
   "cell_type": "code",
   "execution_count": null,
   "metadata": {},
   "outputs": [
    {
     "name": "stdout",
     "output_type": "stream",
     "text": [
      "test_text.txt  test_two.md\r\n"
     ]
    }
   ],
   "source": [
    "!ls demo_src"
   ]
  },
  {
   "cell_type": "markdown",
   "metadata": {},
   "source": [
    "Testing a directory:"
   ]
  },
  {
   "cell_type": "code",
   "execution_count": null,
   "metadata": {},
   "outputs": [],
   "source": [
    "!rm -r demo_dst/*"
   ]
  },
  {
   "cell_type": "code",
   "execution_count": null,
   "metadata": {},
   "outputs": [
    {
     "name": "stdout",
     "output_type": "stream",
     "text": [
      "20241127_143942\r\n"
     ]
    }
   ],
   "source": [
    "run_backup('demo_src', 'demo_dst',)\n",
    "!ls demo_dst"
   ]
  },
  {
   "cell_type": "code",
   "execution_count": null,
   "metadata": {},
   "outputs": [
    {
     "name": "stdout",
     "output_type": "stream",
     "text": [
      "test_text.txt  test_two.md\r\n"
     ]
    }
   ],
   "source": [
    "!ls demo_dst/20241127_143942"
   ]
  },
  {
   "cell_type": "markdown",
   "metadata": {},
   "source": [
    "Testing a pattern"
   ]
  },
  {
   "cell_type": "code",
   "execution_count": null,
   "metadata": {},
   "outputs": [],
   "source": [
    "!rm -r demo_dst/*"
   ]
  },
  {
   "cell_type": "code",
   "execution_count": null,
   "metadata": {},
   "outputs": [],
   "source": [
    "run_backup('demo_src', 'demo_dst', skip_pattern=\"*.md\")"
   ]
  },
  {
   "cell_type": "code",
   "execution_count": null,
   "metadata": {},
   "outputs": [
    {
     "name": "stdout",
     "output_type": "stream",
     "text": [
      "20241127_144023\r\n"
     ]
    }
   ],
   "source": [
    "!ls demo_dst"
   ]
  },
  {
   "cell_type": "code",
   "execution_count": null,
   "metadata": {},
   "outputs": [
    {
     "name": "stdout",
     "output_type": "stream",
     "text": [
      "test_text.txt\r\n"
     ]
    }
   ],
   "source": [
    "!ls demo_dst/20241127_144023"
   ]
  }
 ],
 "metadata": {
  "kernelspec": {
   "display_name": "python3",
   "language": "python",
   "name": "python3"
  }
 },
 "nbformat": 4,
 "nbformat_minor": 4
}
